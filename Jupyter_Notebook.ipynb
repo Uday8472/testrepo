{
  "metadata": {
    "kernelspec": {
      "name": "python",
      "display_name": "Pyolite",
      "language": "python"
    },
    "language_info": {
      "codemirror_mode": {
        "name": "python",
        "version": 3
      },
      "file_extension": ".py",
      "mimetype": "text/x-python",
      "name": "python",
      "nbconvert_exporter": "python",
      "pygments_lexer": "ipython3",
      "version": "3.8"
    },
    "toc-showmarkdowntxt": false,
    "toc-autonumbering": false,
    "toc-showcode": false,
    "toc-showtags": false
  },
  "nbformat_minor": 4,
  "nbformat": 4,
  "cells": [
    {
      "cell_type": "markdown",
      "source": "<center>\n    <img src=\"https://s3-api.us-geo.objectstorage.softlayer.net/cf-courses-data/CognitiveClass/Logos/organization_logo/organization_logo.png\" width=\"300\" alt=\"cognitiveclass.ai logo\"  />\n</center>\n",
      "metadata": {}
    },
    {
      "cell_type": "markdown",
      "source": "#### Add your code below following the instructions given in the course\n",
      "metadata": {}
    },
    {
      "cell_type": "markdown",
      "source": "# \"My Jupiter Notebook on IBM Watson Studio\"",
      "metadata": {}
    },
    {
      "cell_type": "markdown",
      "source": "## **Tamarba Uday Kiran**\n## Business Analyst",
      "metadata": {}
    },
    {
      "cell_type": "markdown",
      "source": "*I am interested in data science because I enjoy problem solving and statistical analysis*",
      "metadata": {}
    },
    {
      "cell_type": "markdown",
      "source": "### In the below code, I am going to execute the simple hello world code.",
      "metadata": {}
    },
    {
      "cell_type": "code",
      "source": "print (\"Hello World\")",
      "metadata": {
        "trusted": true
      },
      "execution_count": 2,
      "outputs": [
        {
          "name": "stdout",
          "text": "Hello World\n",
          "output_type": "stream"
        }
      ]
    },
    {
      "cell_type": "markdown",
      "source": "    Data Scientist should be:\n  * Curious\n  * Judgemnetal\n  * Argumentative",
      "metadata": {}
    },
    {
      "cell_type": "markdown",
      "source": "~~Strikeme~~",
      "metadata": {}
    },
    {
      "cell_type": "markdown",
      "source": "|Name|Age|Sex|\n|---|---|----|\n|Uday|23|M|\n|John|25|M|",
      "metadata": {}
    },
    {
      "cell_type": "code",
      "source": "",
      "metadata": {},
      "execution_count": null,
      "outputs": []
    }
  ]
}